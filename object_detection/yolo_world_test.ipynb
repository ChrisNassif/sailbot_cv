{
 "cells": [
  {
   "cell_type": "code",
   "execution_count": null,
   "metadata": {},
   "outputs": [],
   "source": [
    "from ultralytics import YOLOWorld\n",
    "\n",
    "# Load a pretrained YOLOv8s-worldv2 model\n",
    "model = YOLOWorld(\"yolov8x-worldv2.pt\")\n",
    "model.set_classes([\"human\", \"tree\", \"boat\", \"buoy ball\", \"sports ball\", \"ball\", \"dock\"])\n",
    "# # Train the model on the COCO8 example dataset for 100 epochs\n",
    "# results = model.train(data=\"coco8.yaml\", epochs=100, imgsz=640)\n",
    "\n",
    "# Run inference with the YOLOv8n model on the 'bus.jpg' image\n",
    "model.predict(\"datasets/SailbotVT-OG/valid/images\", save=True, project=\"runs/yolo_world/\", name=\"1\", conf=0.1, imgsz=800)\n"
   ]
  }
 ],
 "metadata": {
  "kernelspec": {
   "display_name": "base",
   "language": "python",
   "name": "python3"
  },
  "language_info": {
   "codemirror_mode": {
    "name": "ipython",
    "version": 3
   },
   "file_extension": ".py",
   "mimetype": "text/x-python",
   "name": "python",
   "nbconvert_exporter": "python",
   "pygments_lexer": "ipython3",
   "version": "3.10.14"
  }
 },
 "nbformat": 4,
 "nbformat_minor": 2
}
